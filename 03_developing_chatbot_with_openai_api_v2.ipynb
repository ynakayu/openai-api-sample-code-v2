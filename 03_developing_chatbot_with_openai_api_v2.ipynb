{
  "nbformat": 4,
  "nbformat_minor": 0,
  "metadata": {
    "colab": {
      "provenance": [],
      "authorship_tag": "ABX9TyPIdbAqyB46pLNFrhO81MoN",
      "include_colab_link": true
    },
    "kernelspec": {
      "name": "python3",
      "display_name": "Python 3"
    },
    "language_info": {
      "name": "python"
    }
  },
  "cells": [
    {
      "cell_type": "markdown",
      "metadata": {
        "id": "view-in-github",
        "colab_type": "text"
      },
      "source": [
        "<a href=\"https://colab.research.google.com/github/ynakayu/openai-api-sample-code-v2/blob/main/03_developing_chatbot_with_openai_api_v2.ipynb\" target=\"_parent\"><img src=\"https://colab.research.google.com/assets/colab-badge.svg\" alt=\"Open In Colab\"/></a>"
      ]
    },
    {
      "cell_type": "code",
      "execution_count": null,
      "metadata": {
        "id": "WGpqwcXYSIlw"
      },
      "outputs": [],
      "source": [
        "# 03-02-基本となるChatBotのコードを実装しよう\n",
        "!pip install openai==1.7.2"
      ]
    },
    {
      "cell_type": "code",
      "source": [
        "# 03-02-基本となるChatBotのコードを実装しよう\n",
        "from openai import OpenAI\n",
        "from google.colab import userdata\n",
        "\n",
        "client = OpenAI(\n",
        "    api_key = userdata.get(\"OPENAI_API_KEY\")\n",
        ")"
      ],
      "metadata": {
        "id": "YpUtpmpqTCGL"
      },
      "execution_count": null,
      "outputs": []
    },
    {
      "cell_type": "code",
      "source": [
        "# 03-02-基本となるChatBotのコードを実装しよう\n",
        "while True:\n",
        "    prompt = input(\"You: \")\n",
        "    # print(f\"{prompt}\")\n",
        "    if prompt == \"exit\":\n",
        "        break\n",
        "\n",
        "    response = client.chat.completions.create(\n",
        "        model=\"gpt-3.5-turbo\",\n",
        "        # model=\"gpt-4\",\n",
        "        messages=[\n",
        "            {\"role\": \"system\", \"content\": \"あなたは役に立つアシスタントです。\"},\n",
        "            {\"role\": \"user\", \"content\": f\"{prompt}\"}\n",
        "        ]\n",
        "    )\n",
        "\n",
        "    print(f\"Bot: {response.choices[0].message.content}\")\n"
      ],
      "metadata": {
        "id": "e_W_Pv45Tad1"
      },
      "execution_count": null,
      "outputs": []
    },
    {
      "cell_type": "code",
      "source": [
        "# 03-03-履歴を保持できるようにしよう\n",
        "messages = [{\"role\": \"system\", \"content\": \"あなたは役に立つアシスタントです。\"}]\n",
        "\n",
        "while True:\n",
        "    prompt = input(\"You: \")\n",
        "    if prompt == \"exit\":\n",
        "        break\n",
        "\n",
        "    messages.append({\"role\": \"user\", \"content\": f\"{prompt}\"})\n",
        "\n",
        "    response = client.chat.completions.create(\n",
        "        model=\"gpt-3.5-turbo\",\n",
        "        messages=messages\n",
        "    )\n",
        "\n",
        "    bot_response = response.choices[0].message.content\n",
        "\n",
        "    messages.append({\"role\": \"assistant\", \"content\": bot_response})\n",
        "\n",
        "    print(f\"Bot: {bot_response}\")\n",
        "\n",
        "    print(\"\\n--- Current messages(Debug) ---\")\n",
        "    for index, message in enumerate(messages):\n",
        "        print(f\"index: {index}, role: {message['role']}, content: {message['content']}\")\n"
      ],
      "metadata": {
        "id": "yjaud500YdqU"
      },
      "execution_count": null,
      "outputs": []
    },
    {
      "cell_type": "code",
      "source": [
        "# 03-04-履歴の保持個数を制限しよう\n",
        "messages = [{\"role\": \"system\", \"content\": \"あなたは役に立つアシスタントです。\"}]\n",
        "\n",
        "while True:\n",
        "    prompt = input(\"You: \")\n",
        "    if prompt == \"exit\":\n",
        "        break\n",
        "\n",
        "    messages.append({\"role\": \"user\", \"content\": f\"{prompt}\"})\n",
        "    while len(messages) > 7:\n",
        "        messages.pop(1)\n",
        "\n",
        "    response = client.chat.completions.create(\n",
        "        model=\"gpt-3.5-turbo\",\n",
        "        messages=messages\n",
        "    )\n",
        "\n",
        "    bot_response = response.choices[0].message.content\n",
        "\n",
        "    messages.append({\"role\": \"assistant\", \"content\": bot_response})\n",
        "\n",
        "    print(f\"Bot: {bot_response}\")\n",
        "\n",
        "    print(\"\\n--- Current messages(Debug) ---\")\n",
        "    for index, message in enumerate(messages):\n",
        "        print(f\"index: {index}, role: {message['role']}, content: {message['content']}\")\n"
      ],
      "metadata": {
        "id": "KieN5NQEen-1"
      },
      "execution_count": null,
      "outputs": []
    },
    {
      "cell_type": "code",
      "source": [
        "# 03-05-systemメッセージを活用しよう\n",
        "# messages = [{\"role\": \"system\", \"content\": \"あなたは5歳児にも理解できるやさしい言葉で説明ができる幼稚園の先生です。\"}]\n",
        "messages = [{\"role\": \"system\", \"content\": \"あなたは回答の語尾に知らんけどを付けます\"}]\n",
        "\n",
        "\n",
        "while True:\n",
        "    prompt = input(\"You: \")\n",
        "    if prompt == \"exit\":\n",
        "        break\n",
        "\n",
        "    messages.append({\"role\": \"user\", \"content\": f\"{prompt}\"})\n",
        "    while len(messages) > 7:\n",
        "        messages.pop(1)\n",
        "\n",
        "    response = client.chat.completions.create(\n",
        "        model=\"gpt-3.5-turbo\",\n",
        "        messages=messages\n",
        "    )\n",
        "\n",
        "    bot_response = response.choices[0].message.content\n",
        "\n",
        "    messages.append({\"role\": \"assistant\", \"content\": bot_response})\n",
        "\n",
        "    print(f\"Bot: {bot_response}\")\n",
        "\n",
        "    print(\"\\n--- Current messages(Debug) ---\")\n",
        "    for index, message in enumerate(messages):\n",
        "        print(f\"index: {index}, role: {message['role']}, content: {message['content']}\")\n"
      ],
      "metadata": {
        "id": "XT7Fr2v5ou9I"
      },
      "execution_count": null,
      "outputs": []
    },
    {
      "cell_type": "code",
      "source": [
        "# 03-06-systemメッセージで目的外利用を防止してみよう\n",
        "messages = [{\"role\": \"system\", \"content\": \"あなたはプログラミングに関する質問のみを回答できます。それ以外の質問の場合は「プログラミングに関する質問以外は回答できません」と返して。\"}]\n",
        "\n",
        "while True:\n",
        "    prompt = input(\"You: \")\n",
        "    if prompt == \"exit\":\n",
        "        break\n",
        "\n",
        "    messages.append({\"role\": \"user\", \"content\": f\"{prompt}\"})\n",
        "    while len(messages) > 7:\n",
        "        messages.pop(1)\n",
        "\n",
        "    response = client.chat.completions.create(\n",
        "        model=\"gpt-3.5-turbo\",\n",
        "        messages=messages\n",
        "    )\n",
        "\n",
        "    bot_response = response.choices[0].message.content\n",
        "\n",
        "    messages.append({\"role\": \"assistant\", \"content\": bot_response})\n",
        "\n",
        "    print(f\"Bot: {bot_response}\")\n",
        "\n",
        "    print(\"\\n--- Current messages(Debug) ---\")\n",
        "    for index, message in enumerate(messages):\n",
        "        print(f\"index: {index}, role: {message['role']}, content: {message['content']}\")\n"
      ],
      "metadata": {
        "id": "ylt83eJYtTuD"
      },
      "execution_count": null,
      "outputs": []
    },
    {
      "cell_type": "code",
      "source": [
        "# 03-07-トークンを節約しよう\n",
        "# messages = [{\"role\": \"system\", \"content\": \"あなたは役立つアシスタントです。\"}]\n",
        "messages = [{\"role\": \"system\", \"content\": \"You are a helpful assistant.\"}]\n",
        "\n",
        "while True:\n",
        "    prompt = input(\"You: \")\n",
        "    if prompt == \"exit\":\n",
        "        break\n",
        "\n",
        "    messages.append({\"role\": \"user\", \"content\": f\"{prompt}\"})\n",
        "    while len(messages) > 7:\n",
        "        messages.pop(1)\n",
        "\n",
        "    response = client.chat.completions.create(\n",
        "        model=\"gpt-3.5-turbo\",\n",
        "        messages=messages,\n",
        "        max_tokens=100\n",
        "    )\n",
        "\n",
        "    bot_response = response.choices[0].message.content\n",
        "\n",
        "    messages.append({\"role\": \"assistant\", \"content\": bot_response})\n",
        "\n",
        "    print(f\"Bot: {bot_response}\")\n",
        "\n",
        "    print(\"\\n--- Current messages(Debug) ---\")\n",
        "    for index, message in enumerate(messages):\n",
        "        print(f\"index: {index}, role: {message['role']}, content: {message['content']}\")\n"
      ],
      "metadata": {
        "id": "FmJPmt8swR9P"
      },
      "execution_count": null,
      "outputs": []
    }
  ]
}