{
  "nbformat": 4,
  "nbformat_minor": 0,
  "metadata": {
    "colab": {
      "provenance": [],
      "authorship_tag": "ABX9TyOnzNKSFtP4VES7vj+roxiv",
      "include_colab_link": true
    },
    "kernelspec": {
      "name": "python3",
      "display_name": "Python 3"
    },
    "language_info": {
      "name": "python"
    }
  },
  "cells": [
    {
      "cell_type": "markdown",
      "metadata": {
        "id": "view-in-github",
        "colab_type": "text"
      },
      "source": [
        "<a href=\"https://colab.research.google.com/github/ynakayu/openai-api-sample-code-v2/blob/main/07_text_to_speech_v2.ipynb\" target=\"_parent\"><img src=\"https://colab.research.google.com/assets/colab-badge.svg\" alt=\"Open In Colab\"/></a>"
      ]
    },
    {
      "cell_type": "code",
      "execution_count": null,
      "metadata": {
        "id": "UGLNse6vcVxA"
      },
      "outputs": [],
      "source": [
        "!pip install openai==1.58.1"
      ]
    },
    {
      "cell_type": "code",
      "source": [
        "from openai import OpenAI\n",
        "from google.colab import userdata\n",
        "client = OpenAI(\n",
        "    api_key = userdata.get(\"OPENAI_API_KEY\")\n",
        ")"
      ],
      "metadata": {
        "id": "s5tJqeHvcv5R"
      },
      "execution_count": null,
      "outputs": []
    },
    {
      "cell_type": "code",
      "source": [
        "# 07-02-テキストからスピーチさせよう\n",
        "response = client.audio.speech.create(\n",
        "    model=\"tts-1\",\n",
        "    voice=\"alloy\",\n",
        "    # input=\"It's fine today.\"\n",
        "    input=\"本日は晴天なり。\"\n",
        ")\n",
        "response.stream_to_file(\"./speech.mp3\")"
      ],
      "metadata": {
        "id": "-2vaXLm7eeQE"
      },
      "execution_count": null,
      "outputs": []
    },
    {
      "cell_type": "code",
      "source": [
        "# 07-03-より長いテキストをスピーチさせてみよう\n",
        "text = \"\"\"\n",
        "こんにちは中村祐太です。\n",
        "この動画では、OpenAI DevDay 2023で発表された、\n",
        "Text to speech APIについて、その使用方法を実演しながら詳しく説明します。\n",
        "日本語で言うと、音声合成を提供する機能です。\n",
        "この技術は、人間のように自然で表現豊かな音声を生成することを目的としています。\n",
        "この動画を最後までご覧いただくと、Text to speech APIを使用して何ができるか、\n",
        "そしてそのAPIの使い方を短時間で把握できますので、ぜひ最後までご覧ください。\n",
        "\"\"\"\n",
        "response = client.audio.speech.create(\n",
        "    model=\"tts-1\",\n",
        "    voice=\"alloy\",\n",
        "    input=text\n",
        ")\n",
        "response.stream_to_file(\"./speech.mp3\")"
      ],
      "metadata": {
        "id": "MUOg67NEhGVX"
      },
      "execution_count": null,
      "outputs": []
    },
    {
      "cell_type": "code",
      "source": [
        "# 07-04-使用する音声のタイプを指定しよう\n",
        "text = \"\"\"\n",
        "こんにちは中村祐太です。\n",
        "この動画では、OpenAI DevDay 2023で発表された、\n",
        "Text to speech APIについて、その使用方法を実演しながら詳しく説明します。\n",
        "日本語で言うと、音声合成を提供する機能です。\n",
        "この技術は、人間のように自然で表現豊かな音声を生成することを目的としています。\n",
        "この動画を最後までご覧いただくと、Text to speech APIを使用して何ができるか、\n",
        "そしてそのAPIの使い方を短時間で把握できますので、ぜひ最後までご覧ください。\n",
        "\"\"\"\n",
        "response = client.audio.speech.create(\n",
        "    model=\"tts-1\",\n",
        "    voice=\"nova\",\n",
        "    input=text\n",
        ")\n",
        "response.stream_to_file(\"./speech.mp3\")"
      ],
      "metadata": {
        "id": "bLxtuXlgj5h_"
      },
      "execution_count": null,
      "outputs": []
    },
    {
      "cell_type": "code",
      "source": [
        "# 07-05-スピーチの速度を調整しよう\n",
        "text = \"\"\"\n",
        "こんにちは中村祐太です。\n",
        "この動画では、OpenAI DevDay 2023で発表された、\n",
        "Text to speech APIについて、その使用方法を実演しながら詳しく説明します。\n",
        "日本語で言うと、音声合成を提供する機能です。\n",
        "この技術は、人間のように自然で表現豊かな音声を生成することを目的としています。\n",
        "この動画を最後までご覧いただくと、Text to speech APIを使用して何ができるか、\n",
        "そしてそのAPIの使い方を短時間で把握できますので、ぜひ最後までご覧ください。\n",
        "\"\"\"\n",
        "response = client.audio.speech.create(\n",
        "    model=\"tts-1\",\n",
        "    voice=\"nova\",\n",
        "    input=text,\n",
        "    # speed=\"2.0\"\n",
        "    speed=\"0.5\"\n",
        ")\n",
        "response.stream_to_file(\"./speech.mp3\")"
      ],
      "metadata": {
        "id": "p10JWjGQkqwK"
      },
      "execution_count": null,
      "outputs": []
    },
    {
      "cell_type": "code",
      "source": [
        "#07-06-音声合成モデルを指定しよう\n",
        "text = \"\"\"\n",
        "こんにちは中村ゆうたです。\n",
        "この動画では、OpenAI DevDay 2023で発表された、\n",
        "Text to speech APIについて、その使用方法を実演しながら詳しく説明します。\n",
        "日本語で言うと、音声合成を提供する機能です。\n",
        "この技術は、人間のように自然で表現豊かな音声を生成することを目的としています。\n",
        "この動画を最後までご覧いただくと、Text to speech APIを使用して何ができるか、\n",
        "そしてそのAPIの使い方を短時間で把握できますので、ぜひ最後までご覧ください。\n",
        "\"\"\"\n",
        "response = client.audio.speech.create(\n",
        "    # model=\"tts-1\",\n",
        "    model=\"tts-1-hd\",\n",
        "    voice=\"alloy\",\n",
        "    input=text,\n",
        "    speed=\"1.0\"\n",
        ")\n",
        "response.stream_to_file(\"./speech.mp3\")"
      ],
      "metadata": {
        "id": "FItoPuRqm7im"
      },
      "execution_count": null,
      "outputs": []
    },
    {
      "cell_type": "code",
      "source": [
        "# 07-07-音声ファイルのフォーマットを指定しよう\n",
        "text = \"\"\"\n",
        "本日は晴天なり\n",
        "\"\"\"\n",
        "response = client.audio.speech.create(\n",
        "    model=\"tts-1\",\n",
        "    voice=\"alloy\",\n",
        "    input=text,\n",
        "    speed=\"1.0\",\n",
        "    response_format=\"aac\"\n",
        ")\n",
        "response.stream_to_file(\"./speech.aac\")"
      ],
      "metadata": {
        "id": "kx4QgruKqJMs"
      },
      "execution_count": null,
      "outputs": []
    }
  ]
}