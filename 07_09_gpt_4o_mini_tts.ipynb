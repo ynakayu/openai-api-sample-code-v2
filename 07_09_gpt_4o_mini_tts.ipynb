{
  "nbformat": 4,
  "nbformat_minor": 0,
  "metadata": {
    "colab": {
      "provenance": [],
      "authorship_tag": "ABX9TyN2l5lEi0vfmOMy41MJUjwO",
      "include_colab_link": true
    },
    "kernelspec": {
      "name": "python3",
      "display_name": "Python 3"
    },
    "language_info": {
      "name": "python"
    }
  },
  "cells": [
    {
      "cell_type": "markdown",
      "metadata": {
        "id": "view-in-github",
        "colab_type": "text"
      },
      "source": [
        "<a href=\"https://colab.research.google.com/github/ynakayu/openai-api-sample-code-v2/blob/main/07_09_gpt_4o_mini_tts.ipynb\" target=\"_parent\"><img src=\"https://colab.research.google.com/assets/colab-badge.svg\" alt=\"Open In Colab\"/></a>"
      ]
    },
    {
      "cell_type": "code",
      "execution_count": null,
      "metadata": {
        "id": "UVBOiLKw2DQM"
      },
      "outputs": [],
      "source": [
        "!pip install openai==1.76.0"
      ]
    },
    {
      "cell_type": "code",
      "source": [
        "import openai\n",
        "print(openai.__version__)"
      ],
      "metadata": {
        "colab": {
          "base_uri": "https://localhost:8080/"
        },
        "id": "_K1hRjP32omE",
        "outputId": "071f40c6-10a8-43b8-d480-9bdb2054ad57"
      },
      "execution_count": 3,
      "outputs": [
        {
          "output_type": "stream",
          "name": "stdout",
          "text": [
            "1.76.0\n"
          ]
        }
      ]
    },
    {
      "cell_type": "code",
      "source": [
        "from openai import OpenAI\n",
        "from google.colab import userdata\n",
        "client = OpenAI(\n",
        "  api_key=userdata.get('OPENAI_API_KEY')\n",
        ")"
      ],
      "metadata": {
        "id": "2BFOq36j3ART"
      },
      "execution_count": 4,
      "outputs": []
    },
    {
      "cell_type": "code",
      "source": [
        "text = \"\"\"\n",
        "今日は青空が広がり、絶好のお出かけ日和です。\n",
        "朝晩は肌寒さを覚えるものの、日中は陽射しが暖かく、\n",
        "場所によっては少し汗ばむ陽気になりそうです。\n",
        "\"\"\"\n",
        "response = client.audio.speech.create(\n",
        "    model=\"gpt-4o-mini-tts\",\n",
        "    voice=\"alloy\",\n",
        "    input=text,\n",
        "    speed=1.0,\n",
        "    response_format=\"aac\",\n",
        "    instructions=\"天気キャスターのように明るく話して\"\n",
        ")\n",
        "response.stream_to_file(\"./speech-gpt-4o-mini-tts.aac\")"
      ],
      "metadata": {
        "id": "TOEbj0FM3Ows"
      },
      "execution_count": null,
      "outputs": []
    }
  ]
}