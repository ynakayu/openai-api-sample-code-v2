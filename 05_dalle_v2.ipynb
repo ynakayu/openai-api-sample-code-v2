{
  "nbformat": 4,
  "nbformat_minor": 0,
  "metadata": {
    "colab": {
      "provenance": [],
      "authorship_tag": "ABX9TyOUuUUUibM99oWkRE3O5gTK",
      "include_colab_link": true
    },
    "kernelspec": {
      "name": "python3",
      "display_name": "Python 3"
    },
    "language_info": {
      "name": "python"
    }
  },
  "cells": [
    {
      "cell_type": "markdown",
      "metadata": {
        "id": "view-in-github",
        "colab_type": "text"
      },
      "source": [
        "<a href=\"https://colab.research.google.com/github/ynakayu/openai-api-sample-code-v2/blob/main/05_dalle_v2.ipynb\" target=\"_parent\"><img src=\"https://colab.research.google.com/assets/colab-badge.svg\" alt=\"Open In Colab\"/></a>"
      ]
    },
    {
      "cell_type": "code",
      "execution_count": null,
      "metadata": {
        "id": "bqICG_DWIy5Y"
      },
      "outputs": [],
      "source": [
        "!pip install openai==1.7.2"
      ]
    },
    {
      "cell_type": "code",
      "source": [
        "from openai import OpenAI\n",
        "from google.colab import userdata\n",
        "import urllib.request\n",
        "from PIL import Image\n",
        "import cv2\n",
        "from google.colab.patches import cv2_imshow\n",
        "\n",
        "import base64\n",
        "import numpy as np\n",
        "\n",
        "client = OpenAI(\n",
        "    api_key = userdata.get(\"OPENAI_API_KEY\")\n",
        ")"
      ],
      "metadata": {
        "id": "McY0_tZEJcWR"
      },
      "execution_count": null,
      "outputs": []
    },
    {
      "cell_type": "code",
      "source": [
        "# 05-04-DALL·Eの画像生成APIを使おう\n",
        "response = client.images.generate(\n",
        "    model = \"dall-e-2\",\n",
        "    prompt = \"sleeping cat\",\n",
        "    size=\"256x256\",\n",
        "    n = 2\n",
        ")\n",
        "\n",
        "# print(response)\n",
        "print(response.data[0].url)\n",
        "print(response.data[1].url)"
      ],
      "metadata": {
        "id": "51GcvRCXK76E"
      },
      "execution_count": null,
      "outputs": []
    },
    {
      "cell_type": "code",
      "source": [
        "# 05-05-DALL·E 3を使い、よりクオリティの高い画像を生成しよう\n",
        "response = client.images.generate(\n",
        "    model = \"dall-e-3\",\n",
        "    # quality = \"standard\",\n",
        "    quality = \"hd\",\n",
        "    # prompt = \"sleeping cat\",\n",
        "    prompt = \"眠っている猫\",\n",
        "    size=\"1024x1024\",\n",
        "    n = 1\n",
        ")\n",
        "\n",
        "# print(response)\n",
        "print(response.data[0].url)"
      ],
      "metadata": {
        "id": "ERZWGtibY5UG"
      },
      "execution_count": null,
      "outputs": []
    },
    {
      "cell_type": "code",
      "source": [
        "# 05-06-DALL·Eで生成した画像を保存しよう①\n",
        "response = client.images.generate(\n",
        "    model = \"dall-e-2\",\n",
        "    prompt = \"sleeping cat\",\n",
        "    size=\"256x256\",\n",
        "    n = 1\n",
        ")\n",
        "\n",
        "image_url = response.data[0].url\n",
        "urllib.request.urlretrieve(image_url, \"image.png\")\n",
        "\n",
        "print(response.data[0].url)"
      ],
      "metadata": {
        "id": "l9ijGr1VS-a2"
      },
      "execution_count": null,
      "outputs": []
    },
    {
      "cell_type": "code",
      "source": [
        "# 05-07-画像をColab上に自動的に表示しよう\n",
        "response = client.images.generate(\n",
        "    model = \"dall-e-2\",\n",
        "    prompt = \"sleeping cat\",\n",
        "    size=\"256x256\",\n",
        "    n = 1\n",
        ")\n",
        "\n",
        "image_url = response.data[0].url\n",
        "urllib.request.urlretrieve(image_url, \"image.png\")\n",
        "img = cv2.imread(\"image.png\")\n",
        "cv2_imshow(img)\n",
        "\n",
        "print(response.data[0].url)"
      ],
      "metadata": {
        "id": "Qrsjj7mXet4r"
      },
      "execution_count": null,
      "outputs": []
    },
    {
      "cell_type": "code",
      "source": [
        "# 05-08-DALL・Eで複数バリエーションの画像を生成して保存しよう\n",
        "\n",
        "response = client.images.generate(\n",
        "    model = \"dall-e-2\",\n",
        "    prompt = \"sleeping cat\",\n",
        "    size=\"256x256\",\n",
        "    n = 3\n",
        ")\n",
        "\n",
        "print(response)\n",
        "for i, image in enumerate(response.data):\n",
        "    # image_url = image.url\n",
        "    # print(image_url)\n",
        "    # urllib.request.urlretrieve(image_url, f\"image-{i}.png\")\n",
        "    urllib.request.urlretrieve(image.url, f\"image-{i}.png\")\n",
        "\n",
        "image_files = [f\"image-{i}.png\" for i in range(len(response.data))]\n",
        "for image_file in image_files:\n",
        "    img = cv2.imread(image_file)\n",
        "    cv2_imshow(img)\n"
      ],
      "metadata": {
        "id": "iQpaOwBGnRDL"
      },
      "execution_count": null,
      "outputs": []
    },
    {
      "cell_type": "code",
      "source": [
        "# 05-09-DALL・Eで生成した画像を保存しよう②\n",
        "response = client.images.generate(\n",
        "    model = \"dall-e-2\",\n",
        "    prompt = \"sleeping cat\",\n",
        "    size = \"256x256\",\n",
        "    n = 1,\n",
        "    response_format = \"b64_json\"\n",
        ")\n",
        "\n",
        "print(response)\n",
        "\n",
        "decoded_image_data = base64.b64decode(response.data[0].b64_json)\n",
        "nparr = np.frombuffer(decoded_image_data, np.uint8)\n",
        "decoded_image = cv2.imdecode(nparr, cv2.IMREAD_COLOR)\n",
        "cv2_imshow(decoded_image)"
      ],
      "metadata": {
        "id": "Aq95D47v7RPw"
      },
      "execution_count": null,
      "outputs": []
    }
  ]
}