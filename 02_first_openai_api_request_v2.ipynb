{
  "nbformat": 4,
  "nbformat_minor": 0,
  "metadata": {
    "colab": {
      "provenance": [],
      "authorship_tag": "ABX9TyNzWgtlERDYVPUmFSjSqPLE",
      "include_colab_link": true
    },
    "kernelspec": {
      "name": "python3",
      "display_name": "Python 3"
    },
    "language_info": {
      "name": "python"
    }
  },
  "cells": [
    {
      "cell_type": "markdown",
      "metadata": {
        "id": "view-in-github",
        "colab_type": "text"
      },
      "source": [
        "<a href=\"https://colab.research.google.com/github/ynakayu/openai-api-sample-code-v2/blob/main/02_first_openai_api_request_v2.ipynb\" target=\"_parent\"><img src=\"https://colab.research.google.com/assets/colab-badge.svg\" alt=\"Open In Colab\"/></a>"
      ]
    },
    {
      "cell_type": "code",
      "execution_count": null,
      "metadata": {
        "colab": {
          "base_uri": "https://localhost:8080/"
        },
        "id": "zk4-ZV0b_gCF",
        "outputId": "0734050b-64d0-46f8-d34e-7407faebb532"
      },
      "outputs": [
        {
          "output_type": "stream",
          "name": "stdout",
          "text": [
            "Hello World!\n"
          ]
        }
      ],
      "source": [
        "# print(\"Hello World!\")"
      ]
    },
    {
      "cell_type": "code",
      "source": [
        "!pip install openai==1.7.2"
      ],
      "metadata": {
        "id": "t-kjBfNFApud"
      },
      "execution_count": null,
      "outputs": []
    },
    {
      "cell_type": "code",
      "source": [
        "# 02-05-はじめてのOpenAI-API\n",
        "import openai\n",
        "openai.api_key = \"xxxxx\"\n",
        "chat_completion = openai.chat.completions.create(\n",
        "    model=\"gpt-3.5-turbo\",\n",
        "    messages=[\n",
        "        {\"role\": \"user\", \"content\": \"OpenAI APIとは？\"}\n",
        "    ]\n",
        ")\n",
        "# print(chat_completion)\n",
        "print(chat_completion.choices[0].message.content)"
      ],
      "metadata": {
        "id": "-XbPYtbgMZhm"
      },
      "execution_count": null,
      "outputs": []
    },
    {
      "cell_type": "code",
      "source": [
        "# 02-06-GPT-4やGPT-4-Truboを使おう\n",
        "import openai\n",
        "openai.api_key = \"xxxxx\"\n",
        "chat_completion = openai.chat.completions.create(\n",
        "    # model=\"gpt-4\",\n",
        "    # model=\"gpt-4-1106-preview\",\n",
        "    model=\"gpt-3.5-turbo\",\n",
        "    messages=[\n",
        "        {\"role\": \"user\", \"content\": \"OpenAI APIとは？\"}\n",
        "    ]\n",
        ")\n",
        "# print(chat_completion)\n",
        "print(chat_completion.choices[0].message.content)"
      ],
      "metadata": {
        "id": "Cj0PeUL5YYzs"
      },
      "execution_count": null,
      "outputs": []
    },
    {
      "cell_type": "code",
      "source": [
        "# 02-06a-GPT-4-Turboを使おう① - 概要\n",
        "import openai\n",
        "openai.api_key = \"xxxxx\"\n",
        "chat_completion = openai.chat.completions.create(\n",
        "    model=\"gpt-4-turbo\",\n",
        "    messages=[\n",
        "        {\"role\": \"user\", \"content\": \"OpenAI APIとは？\"}\n",
        "    ]\n",
        ")\n",
        "# print(chat_completion)\n",
        "print(chat_completion.choices[0].message.content)"
      ],
      "metadata": {
        "id": "4oK0AOV-zlzH"
      },
      "execution_count": null,
      "outputs": []
    },
    {
      "cell_type": "code",
      "source": [
        "# 02-06b-GPT-4-Turboを使おう② - 演習\n",
        "import openai\n",
        "message = \"\"\"\n",
        "＜＜＜ここにテキストを記載する＞＞＞\n",
        "\"\"\"\n",
        "\n",
        "openai.api_key = \"xxxxx\"\n",
        "chat_completion = openai.chat.completions.create(\n",
        "    model=\"gpt-4-turbo\",\n",
        "    messages=[\n",
        "        {\"role\": \"user\", \"content\": f\"下記文章を100文字程度に要約して：{message}\"}\n",
        "    ]\n",
        ")\n",
        "# print(chat_completion)\n",
        "print(chat_completion.choices[0].message.content)\n",
        "print(\"prompt_tokens:\", chat_completion.usage.prompt_tokens)\n",
        "print(\"completion_tokens:\", chat_completion.usage.completion_tokens)\n",
        "print(\"total_tokens:\", chat_completion.usage.total_tokens)"
      ],
      "metadata": {
        "id": "dRiibVM6zv1L"
      },
      "execution_count": null,
      "outputs": []
    },
    {
      "cell_type": "code",
      "source": [
        "#02-07-APIキーを非表示にしよう\n",
        "from openai import OpenAI\n",
        "from google.colab import userdata\n",
        "\n",
        "client = OpenAI(\n",
        "    api_key = userdata.get(\"OPENAI_API_KEY\")\n",
        ")"
      ],
      "metadata": {
        "id": "2m-4XcAzjrqj"
      },
      "execution_count": null,
      "outputs": []
    },
    {
      "cell_type": "code",
      "source": [
        "#02-07-APIキーを非表示にしよう\n",
        "chat_completion = client.chat.completions.create(\n",
        "    model=\"gpt-3.5-turbo\",\n",
        "    messages=[\n",
        "        {\"role\": \"user\", \"content\": \"OpenAI APIとは？\"}\n",
        "    ]\n",
        ")\n",
        "print(chat_completion.choices[0].message.content)"
      ],
      "metadata": {
        "id": "gGDanFDVGLhR"
      },
      "execution_count": null,
      "outputs": []
    },
    {
      "cell_type": "code",
      "source": [
        "# 02-08-戻り値を確認しよう\n",
        "chat_completion = client.chat.completions.create(\n",
        "    model=\"gpt-3.5-turbo\",\n",
        "    messages=[\n",
        "        {\"role\": \"user\", \"content\": \"OpenAI APIとは？\"}\n",
        "    ]\n",
        ")\n",
        "# print(chat_completion.choices[0].message.content)\n",
        "print(chat_completion)"
      ],
      "metadata": {
        "id": "41Ag7k6pKE0I"
      },
      "execution_count": null,
      "outputs": []
    },
    {
      "cell_type": "code",
      "source": [
        "# 02-10-max_tokensを設定しよう\n",
        "chat_completion = client.chat.completions.create(\n",
        "    model=\"gpt-3.5-turbo\",\n",
        "    messages=[\n",
        "        {\"role\": \"user\", \"content\": \"日本の都道府県におけるりんごの生産量のランキングTOP10は？\"}\n",
        "    ],\n",
        "    max_tokens=64\n",
        ")\n",
        "print(chat_completion.choices[0].message.content)\n",
        "print(chat_completion)"
      ],
      "metadata": {
        "id": "7QJhl-aqOqxz"
      },
      "execution_count": null,
      "outputs": []
    },
    {
      "cell_type": "code",
      "source": [
        "chat_completion = client.chat.completions.create(\n",
        "    model=\"gpt-3.5-turbo\",\n",
        "    messages=[\n",
        "        {\"role\": \"system\", \"content\": \"あなたは優秀な司書です。\"},\n",
        "        {\"role\": \"system\", \"content\": \"回答文の末尾に「知らんけど」をつけて。\"},\n",
        "        {\"role\": \"user\", \"content\": \"面白いSFの本を探しています。一番のおすすめを教えて。\"},\n",
        "        {\"role\": \"assistant\", \"content\": \"「ネクサス」シリーズ（作者：リチャード・K・モーガン）をおすすめします。このシリーズは近未来の世界を舞台に、人間とコンピューターの融合技術を描いたサイバーパンク作品です。主人公のカバー・カンビアや彼の冷酷な調査官の活躍が描かれ、スリリングなストーリー展開が特徴です。また、人間の意識と身体の分離、社会的な問題なども掘り下げられ、深いテーマにも触れています。ぜひ一度、お読みになってみてください。\"},\n",
        "        {\"role\": \"user\", \"content\": \"映画も好きなのですが、その本に近い内容のSF映画でおすすめはありますか？\"}\n",
        "    ]\n",
        ")\n",
        "print(chat_completion.choices[0].message.content)"
      ],
      "metadata": {
        "id": "Jjj_1fb0Vuvi"
      },
      "execution_count": null,
      "outputs": []
    }
  ]
}