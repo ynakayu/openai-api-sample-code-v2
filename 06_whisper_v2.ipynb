{
  "nbformat": 4,
  "nbformat_minor": 0,
  "metadata": {
    "colab": {
      "provenance": [],
      "authorship_tag": "ABX9TyPvQpAwSrCy+YNf7VXOXSTX",
      "include_colab_link": true
    },
    "kernelspec": {
      "name": "python3",
      "display_name": "Python 3"
    },
    "language_info": {
      "name": "python"
    }
  },
  "cells": [
    {
      "cell_type": "markdown",
      "metadata": {
        "id": "view-in-github",
        "colab_type": "text"
      },
      "source": [
        "<a href=\"https://colab.research.google.com/github/ynakayu/openai-api-sample-code-v2/blob/main/06_whisper_v2.ipynb\" target=\"_parent\"><img src=\"https://colab.research.google.com/assets/colab-badge.svg\" alt=\"Open In Colab\"/></a>"
      ]
    },
    {
      "cell_type": "code",
      "source": [
        "# 06-02-音声ファイルから文字起こしをしよう\n",
        "!pip install openai==1.7.2"
      ],
      "metadata": {
        "id": "ol5pOTzlN82o"
      },
      "execution_count": null,
      "outputs": []
    },
    {
      "cell_type": "code",
      "source": [
        "# 06-02-音声ファイルから文字起こしをしよう\n",
        "from openai import OpenAI\n",
        "from google.colab import userdata\n",
        "\n",
        "client = OpenAI(\n",
        "    api_key = userdata.get(\"OPENAI_API_KEY\")\n",
        ")"
      ],
      "metadata": {
        "id": "aA81FfBTORiF"
      },
      "execution_count": null,
      "outputs": []
    },
    {
      "cell_type": "code",
      "source": [
        "# 06-02-音声ファイルから文字起こしをしよう\n",
        "audio_file = open(\"./audio.mp3\", \"rb\")\n",
        "transcript = client.audio.transcriptions.create(\n",
        "    model = \"whisper-1\",\n",
        "    file = audio_file\n",
        ")\n",
        "\n",
        "print(transcript.text)"
      ],
      "metadata": {
        "id": "wisVjR2MSBXV"
      },
      "execution_count": null,
      "outputs": []
    },
    {
      "cell_type": "code",
      "source": [
        "# 06-03-レスポンスのフォーマットを設定しよう\n",
        "audio_file = open(\"./audio.mp3\", \"rb\")\n",
        "transcript = client.audio.transcriptions.create(\n",
        "    model = \"whisper-1\",\n",
        "    file = audio_file,\n",
        "    # response_format = \"verbose_json\"\n",
        "    # response_format = \"text\"\n",
        "    # response_format = \"srt\"\n",
        "    response_format = \"vtt\"\n",
        ")\n",
        "\n",
        "print(transcript)"
      ],
      "metadata": {
        "id": "blCgqY6l-Aoo"
      },
      "execution_count": null,
      "outputs": []
    },
    {
      "cell_type": "code",
      "source": [
        "# 06-04-サンプリング温度を設定しよう\n",
        "audio_file = open(\"./audio.mp3\", \"rb\")\n",
        "transcript = client.audio.transcriptions.create(\n",
        "    model = \"whisper-1\",\n",
        "    file = audio_file,\n",
        "    response_format = \"text\",\n",
        "    temperature = 0\n",
        ")\n",
        "\n",
        "print(transcript)"
      ],
      "metadata": {
        "id": "CflJtgkwFaRh"
      },
      "execution_count": null,
      "outputs": []
    },
    {
      "cell_type": "code",
      "source": [
        "# 06-05-言語を明示的に設定しよう\n",
        "audio_file = open(\"./audio.mp3\", \"rb\")\n",
        "transcript = client.audio.transcriptions.create(\n",
        "    model = \"whisper-1\",\n",
        "    file = audio_file,\n",
        "    response_format = \"text\",\n",
        "    language = \"ja\"\n",
        ")\n",
        "\n",
        "print(transcript)"
      ],
      "metadata": {
        "id": "CI_N0Om2Hg_q"
      },
      "execution_count": null,
      "outputs": []
    },
    {
      "cell_type": "code",
      "source": [
        "# 06-06-プロンプト パラメーターを設定しよう\n",
        "audio_file = open(\"./audio.mp3\", \"rb\")\n",
        "transcript = client.audio.transcriptions.create(\n",
        "    model = \"whisper-1\",\n",
        "    file = audio_file,\n",
        "    response_format = \"text\",\n",
        "    language = \"ja\",\n",
        "    prompt=\"中村祐太, OpenAI\"\n",
        ")\n",
        "\n",
        "print(transcript)"
      ],
      "metadata": {
        "id": "IaqQXiPKI3PK"
      },
      "execution_count": null,
      "outputs": []
    },
    {
      "cell_type": "code",
      "source": [
        "# 06-07-音声ファイルから文字起こし後、翻訳も行おう\n",
        "audio_file = open(\"./audio.mp3\", \"rb\")\n",
        "transcript = client.audio.translations.create(\n",
        "    model = \"whisper-1\",\n",
        "    file = audio_file,\n",
        "    # response_format = \"text\"\n",
        "    response_format = \"srt\"\n",
        ")\n",
        "\n",
        "print(transcript)"
      ],
      "metadata": {
        "id": "S0ZGaMWcKrw4"
      },
      "execution_count": null,
      "outputs": []
    }
  ]
}