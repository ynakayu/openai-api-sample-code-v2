{
  "nbformat": 4,
  "nbformat_minor": 0,
  "metadata": {
    "colab": {
      "provenance": [],
      "authorship_tag": "ABX9TyMgQlfeTcpzxZAztfg2cTSX",
      "include_colab_link": true
    },
    "kernelspec": {
      "name": "python3",
      "display_name": "Python 3"
    },
    "language_info": {
      "name": "python"
    }
  },
  "cells": [
    {
      "cell_type": "markdown",
      "metadata": {
        "id": "view-in-github",
        "colab_type": "text"
      },
      "source": [
        "<a href=\"https://colab.research.google.com/github/ynakayu/openai-api-sample-code-v2/blob/main/04_learn_about_openai_parameters_v2.ipynb\" target=\"_parent\"><img src=\"https://colab.research.google.com/assets/colab-badge.svg\" alt=\"Open In Colab\"/></a>"
      ]
    },
    {
      "cell_type": "code",
      "execution_count": null,
      "metadata": {
        "id": "DxPHKlV7xsgk"
      },
      "outputs": [],
      "source": [
        "# 04-02-ストップシーケンスを設定しよう\n",
        "!pip install openai==1.7.2"
      ]
    },
    {
      "cell_type": "code",
      "source": [
        "# 04-02-ストップシーケンスを設定しよう\n",
        "from openai import OpenAI\n",
        "from google.colab import userdata\n",
        "\n",
        "client = OpenAI(\n",
        "    api_key = userdata.get(\"OPENAI_API_KEY\")\n",
        ")"
      ],
      "metadata": {
        "id": "ODoUpy5kyheT"
      },
      "execution_count": null,
      "outputs": []
    },
    {
      "cell_type": "code",
      "source": [
        "# 04-02-ストップシーケンスを設定しよう\n",
        "chat_completion = client.chat.completions.create(\n",
        "    model=\"gpt-3.5-turbo\",\n",
        "    messages=[\n",
        "        {\"role\": \"user\", \"content\": \"日本の都道府県におけるりんごの生産量ランキングTOP5は？\"}\n",
        "    ],\n",
        "    # stop=[\"6位\", \"6.\"]\n",
        "    stop=\"\\n\"\n",
        ")\n",
        "\n",
        "print(chat_completion.choices[0].message.content)"
      ],
      "metadata": {
        "id": "BgHayjC8y3uR"
      },
      "execution_count": null,
      "outputs": []
    },
    {
      "cell_type": "code",
      "source": [
        "# 04-03-nを設定しよう\n",
        "chat_completion = client.chat.completions.create(\n",
        "    model=\"gpt-3.5-turbo\",\n",
        "    messages=[\n",
        "        {\"role\": \"user\", \"content\": \"ビジネスに役立つことわざを1個教えて\"}\n",
        "    ],\n",
        "    n=3,\n",
        "    max_tokens=5\n",
        ")\n",
        "\n",
        "print(chat_completion)\n",
        "print(chat_completion.choices[0].message.content)\n",
        "print(chat_completion.choices[1].message.content)\n",
        "print(chat_completion.choices[2].message.content)"
      ],
      "metadata": {
        "id": "QoS0duaf3ZWd"
      },
      "execution_count": null,
      "outputs": []
    },
    {
      "cell_type": "code",
      "source": [
        "# 04-04-temperatureとtop_nを設定しよう\n",
        "chat_completion = client.chat.completions.create(\n",
        "    model=\"gpt-3.5-turbo\",\n",
        "    messages=[\n",
        "        {\"role\": \"user\", \"content\": \"OpenAIとは？\"}\n",
        "    ],\n",
        "    # temperature=0.2,\n",
        "    top_p=0.9,\n",
        "    n=5,\n",
        "    max_tokens=50\n",
        ")\n",
        "\n",
        "\n",
        "print(chat_completion.choices[0].message.content)\n",
        "print(chat_completion.choices[1].message.content)\n",
        "print(chat_completion.choices[2].message.content)\n",
        "print(chat_completion.choices[3].message.content)\n",
        "print(chat_completion.choices[4].message.content)\n",
        "print(chat_completion)"
      ],
      "metadata": {
        "id": "FGe8jAxt6VQx"
      },
      "execution_count": null,
      "outputs": []
    },
    {
      "cell_type": "code",
      "source": [
        "# 04-05-response_formatを設定しよう\n",
        "import json\n",
        "message = \"東京都と大阪の人口は？JSON形式で答えなさい。キーはtokyo、osakaとする。\"\n",
        "chat_completion = client.chat.completions.create(\n",
        "    model=\"gpt-3.5-turbo\",\n",
        "    messages=[\n",
        "        {\"role\": \"user\", \"content\": message}\n",
        "    ],\n",
        "    response_format={\"type\": \"json_object\"}\n",
        ")\n",
        "\n",
        "print(chat_completion.choices[0].message.content)\n",
        "print(json.loads(chat_completion.choices[0].message.content)[\"tokyo\"])\n",
        "print(json.loads(chat_completion.choices[0].message.content)[\"osaka\"])"
      ],
      "metadata": {
        "id": "KiX6Gd3jUx05"
      },
      "execution_count": null,
      "outputs": []
    },
    {
      "cell_type": "code",
      "source": [
        "# 05-06-response_format利用時の注意点を知ろう\n",
        "import json\n",
        "message = \"東京都と大阪の人口は？JSON形式で答えなさい。キーはtokyo、osakaとする。\"\n",
        "chat_completion = client.chat.completions.create(\n",
        "    model=\"gpt-3.5-turbo\",\n",
        "    messages=[\n",
        "        {\"role\": \"user\", \"content\": message}\n",
        "    ],\n",
        "    response_format={\"type\": \"json_object\"},\n",
        "    # max_tokens=5\n",
        ")\n",
        "\n",
        "print(chat_completion.choices[0].message.content)\n",
        "print(chat_completion.choices[0].finish_reason)\n",
        "if chat_completion.choices[0].finish_reason == \"stop\":\n",
        "    print(json.loads(chat_completion.choices[0].message.content)[\"tokyo\"])\n",
        "    print(json.loads(chat_completion.choices[0].message.content)[\"osaka\"])\n",
        "else:\n",
        "    print(\"Error!\")"
      ],
      "metadata": {
        "id": "nfFbYnU2U4G8"
      },
      "execution_count": null,
      "outputs": []
    },
    {
      "cell_type": "code",
      "source": [
        "# 04-07-streamを設定しよう\n",
        "message = \"生成AIを活用して業務効率を上げることができる仕事を10個教えてください。\"\n",
        "chat_completion = client.chat.completions.create(\n",
        "    model=\"gpt-3.5-turbo\",\n",
        "    messages=[\n",
        "        {\"role\": \"user\", \"content\": message}\n",
        "    ],\n",
        "    stream=True\n",
        ")\n",
        "\n",
        "for chunk in chat_completion:\n",
        "    if chunk.choices[0].delta.content is not None:\n",
        "        print(chunk.choices[0].delta.content, end=\"\")"
      ],
      "metadata": {
        "id": "0MieaZMKU5rl"
      },
      "execution_count": null,
      "outputs": []
    }
  ]
}